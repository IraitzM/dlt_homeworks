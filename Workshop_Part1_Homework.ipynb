{
  "nbformat": 4,
  "nbformat_minor": 0,
  "metadata": {
    "colab": {
      "provenance": [],
      "toc_visible": true,
      "include_colab_link": true
    },
    "kernelspec": {
      "name": "python3",
      "display_name": "Python 3"
    },
    "language_info": {
      "name": "python"
    }
  },
  "cells": [
    {
      "cell_type": "markdown",
      "metadata": {
        "id": "view-in-github",
        "colab_type": "text"
      },
      "source": [
        "<a href=\"https://colab.research.google.com/github/IraitzM/dlt_homeworks/blob/main/Workshop_Part1_Homework.ipynb\" target=\"_parent\"><img src=\"https://colab.research.google.com/assets/colab-badge.svg\" alt=\"Open In Colab\"/></a>"
      ]
    },
    {
      "cell_type": "markdown",
      "source": [
        "#Homework\n",
        "\n",
        "Write a python script that will load data from the SpaceX API into DuckDB using dlt.\n",
        "\n",
        "Use:\n",
        "- @dlt.source\n",
        "- @dlt.resource\n",
        "- @dlt.transformer\n",
        "\n",
        "SpaceX API URL: https://api.spacexdata.com\n",
        "\n",
        "Docs: https://github.com/r-spacex/SpaceX-API/blob/master/docs/README.md\n",
        "\n",
        "Endpoints for loading:\n",
        "- launches\n",
        "- rockets\n",
        "- crew"
      ],
      "metadata": {
        "id": "i4bUhtWPH9nE"
      }
    },
    {
      "cell_type": "markdown",
      "source": [
        "# Install dlt with duckdb extention"
      ],
      "metadata": {
        "id": "-cFnLAMpIBNF"
      }
    },
    {
      "cell_type": "code",
      "execution_count": 1,
      "metadata": {
        "id": "4uVKDZXdGkz3"
      },
      "outputs": [],
      "source": [
        "%%capture\n",
        "!pip install dlt[duckdb]"
      ]
    },
    {
      "cell_type": "markdown",
      "source": [
        "# Play with SpaceX API"
      ],
      "metadata": {
        "id": "ZqBbuLiLIGwx"
      }
    },
    {
      "cell_type": "code",
      "source": [
        "import requests\n",
        "response = requests.get(\"https://api.spacexdata.com/v4/launches\")\n",
        "response.json()[0]"
      ],
      "metadata": {
        "id": "fHVNIdclQZzT",
        "outputId": "f278b506-65e4-4ac3-bf97-3d4b9a335a16",
        "colab": {
          "base_uri": "https://localhost:8080/"
        }
      },
      "execution_count": 2,
      "outputs": [
        {
          "output_type": "execute_result",
          "data": {
            "text/plain": [
              "{'fairings': {'reused': False,\n",
              "  'recovery_attempt': False,\n",
              "  'recovered': False,\n",
              "  'ships': []},\n",
              " 'links': {'patch': {'small': 'https://images2.imgbox.com/94/f2/NN6Ph45r_o.png',\n",
              "   'large': 'https://images2.imgbox.com/5b/02/QcxHUb5V_o.png'},\n",
              "  'reddit': {'campaign': None,\n",
              "   'launch': None,\n",
              "   'media': None,\n",
              "   'recovery': None},\n",
              "  'flickr': {'small': [], 'original': []},\n",
              "  'presskit': None,\n",
              "  'webcast': 'https://www.youtube.com/watch?v=0a_00nJ_Y88',\n",
              "  'youtube_id': '0a_00nJ_Y88',\n",
              "  'article': 'https://www.space.com/2196-spacex-inaugural-falcon-1-rocket-lost-launch.html',\n",
              "  'wikipedia': 'https://en.wikipedia.org/wiki/DemoSat'},\n",
              " 'static_fire_date_utc': '2006-03-17T00:00:00.000Z',\n",
              " 'static_fire_date_unix': 1142553600,\n",
              " 'net': False,\n",
              " 'window': 0,\n",
              " 'rocket': '5e9d0d95eda69955f709d1eb',\n",
              " 'success': False,\n",
              " 'failures': [{'time': 33,\n",
              "   'altitude': None,\n",
              "   'reason': 'merlin engine failure'}],\n",
              " 'details': 'Engine failure at 33 seconds and loss of vehicle',\n",
              " 'crew': [],\n",
              " 'ships': [],\n",
              " 'capsules': [],\n",
              " 'payloads': ['5eb0e4b5b6c3bb0006eeb1e1'],\n",
              " 'launchpad': '5e9e4502f5090995de566f86',\n",
              " 'flight_number': 1,\n",
              " 'name': 'FalconSat',\n",
              " 'date_utc': '2006-03-24T22:30:00.000Z',\n",
              " 'date_unix': 1143239400,\n",
              " 'date_local': '2006-03-25T10:30:00+12:00',\n",
              " 'date_precision': 'hour',\n",
              " 'upcoming': False,\n",
              " 'cores': [{'core': '5e9e289df35918033d3b2623',\n",
              "   'flight': 1,\n",
              "   'gridfins': False,\n",
              "   'legs': False,\n",
              "   'reused': False,\n",
              "   'landing_attempt': False,\n",
              "   'landing_success': None,\n",
              "   'landing_type': None,\n",
              "   'landpad': None}],\n",
              " 'auto_update': True,\n",
              " 'tbd': False,\n",
              " 'launch_library_id': None,\n",
              " 'id': '5eb87cd9ffd86e000604b32a'}"
            ]
          },
          "metadata": {},
          "execution_count": 2
        }
      ]
    },
    {
      "cell_type": "markdown",
      "source": [
        "# Helper\n",
        "Run the cell and ignore it."
      ],
      "metadata": {
        "id": "cMZP5POeIKAW"
      }
    },
    {
      "cell_type": "code",
      "source": [
        "from dlt.common.pipeline import LoadInfo\n",
        "\n",
        "def assert_load_info(info: LoadInfo, expected_load_packages: int = 1) -> None:\n",
        "    \"\"\"Asserts that expected number of packages was loaded and there are no failed jobs\"\"\"\n",
        "    assert len(info.loads_ids) == expected_load_packages\n",
        "    # all packages loaded\n",
        "    assert all(package.state == \"loaded\" for package in info.load_packages) is True\n",
        "    # no failed jobs in any of the packages\n",
        "    info.raise_on_failed_jobs()"
      ],
      "metadata": {
        "id": "nZIBJEKrWpTm"
      },
      "execution_count": 4,
      "outputs": []
    },
    {
      "cell_type": "markdown",
      "source": [
        "# Task 1\n",
        "\n",
        "\n",
        "Create a pipeline for SpaceX API, for the next endpoints: launches, rockets, crew.\n",
        "\n",
        "- Fill the empty lines in the functions below.\n",
        "- `get_rockets` resource should have `table_name=rockets`.\n",
        "- Create a [resource](https://dlthub.com/docs/general-usage/resource#declare-a-resource) for the `crew` endpoint from scratch.\n",
        "- [Run the pipeline](https://dlthub.com/docs/walkthroughs/run-a-pipeline) without errors."
      ],
      "metadata": {
        "id": "6kM1y10aXf2S"
      }
    },
    {
      "cell_type": "code",
      "source": [
        "import time\n",
        "\n",
        "import dlt\n",
        "import requests\n",
        "\n",
        "\n",
        "@dlt.resource(table_name=\"launches\")\n",
        "def get_launches():\n",
        "    # put your code here\n",
        "    response = requests.get(\"https://api.spacexdata.com/v4/launches\")\n",
        "    resp_json = response.json()\n",
        "    for rjson in resp_json:\n",
        "      yield rjson\n",
        "\n",
        "@dlt.resource(table_name=\"rockets\")\n",
        "def get_rockets():\n",
        "    # put your code here\n",
        "    response = requests.get(\"https://api.spacexdata.com/v4/rockets\")\n",
        "    resp_json = response.json()\n",
        "    for rjson in resp_json:\n",
        "      yield rjson\n",
        "\n",
        "\n",
        "@dlt.resource(table_name=\"crew\")\n",
        "def get_crew():\n",
        "  # put your code here\n",
        "  response = requests.get(\"https://api.spacexdata.com/v4/crew\")\n",
        "  resp_json = response.json()\n",
        "  for rjson in resp_json:\n",
        "    yield rjson\n",
        "\n",
        "\n",
        "pipeline = dlt.pipeline(\n",
        "    pipeline_name='spacex_with_source',\n",
        "    destination='duckdb',\n",
        "    dataset_name='spacex_data',\n",
        "    dev_mode=True,\n",
        ")\n",
        "\n",
        "load_info = pipeline.run([get_launches(), get_rockets(), get_crew()])\n",
        "print(load_info)\n",
        "assert_load_info(load_info)\n"
      ],
      "metadata": {
        "id": "2He2O3XNGqnB",
        "outputId": "5c6e2e36-acd3-47a3-b25f-82922901ea2e",
        "colab": {
          "base_uri": "https://localhost:8080/"
        }
      },
      "execution_count": 7,
      "outputs": [
        {
          "output_type": "stream",
          "name": "stdout",
          "text": [
            "Pipeline spacex_with_source load step completed in 1.28 seconds\n",
            "1 load package(s) were loaded to destination duckdb and into dataset spacex_data_20240822040555\n",
            "The duckdb destination used duckdb:////content/spacex_with_source.duckdb location to store data\n",
            "Load package 1724342755.9962318 is LOADED and contains no failed jobs\n"
          ]
        }
      ]
    },
    {
      "cell_type": "markdown",
      "source": [
        "Run the code below and\n",
        "## Answer the Question:\n",
        "- What weight (kg) has the heighest (meters) rocket?"
      ],
      "metadata": {
        "id": "JcIaeCd3Yqk9"
      }
    },
    {
      "cell_type": "code",
      "source": [
        "import duckdb\n",
        "from google.colab import data_table\n",
        "data_table.enable_dataframe_formatter()\n",
        "\n",
        "# a database '<pipeline_name>.duckdb' was created in working directory so just connect to it\n",
        "conn = duckdb.connect(f\"{pipeline.pipeline_name}.duckdb\")\n",
        "conn.sql(f\"SET search_path = '{pipeline.dataset_name}'\")\n",
        "stats_table = conn.sql(\"SELECT * FROM rockets\").df()\n",
        "display(stats_table)"
      ],
      "metadata": {
        "id": "MZll2qr_O9wg",
        "outputId": "e5ef145b-13e3-43da-83a6-86a1f584be27",
        "colab": {
          "base_uri": "https://localhost:8080/",
          "height": 486
        }
      },
      "execution_count": 8,
      "outputs": [
        {
          "output_type": "stream",
          "name": "stdout",
          "text": [
            "Warning: Total number of columns (58) exceeds max_columns (20). Falling back to pandas display.\n"
          ]
        },
        {
          "output_type": "display_data",
          "data": {
            "text/plain": [
              "   height__meters  height__feet  diameter__meters  diameter__feet  mass__kg  \\\n",
              "0           22.25          73.0              1.68             5.5     30146   \n",
              "1           70.00           NaN              3.70            12.0    549054   \n",
              "2           70.00           NaN             12.20            39.9   1420788   \n",
              "3          118.00         387.0              9.00            30.0   1335000   \n",
              "\n",
              "   mass__lb  first_stage__thrust_sea_level__k_n  \\\n",
              "0     66460                                 420   \n",
              "1   1207920                                7607   \n",
              "2   3125735                               22819   \n",
              "3   2943000                              128000   \n",
              "\n",
              "   first_stage__thrust_sea_level__lbf  first_stage__thrust_vacuum__k_n  \\\n",
              "0                               94000                              480   \n",
              "1                             1710000                             8227   \n",
              "2                             5130000                            24681   \n",
              "3                            28775544                           138000   \n",
              "\n",
              "   first_stage__thrust_vacuum__lbf  ...                           country  \\\n",
              "0                           110000  ...  Republic of the Marshall Islands   \n",
              "1                          1849500  ...                     United States   \n",
              "2                          5548500  ...                     United States   \n",
              "3                         31023634  ...                     United States   \n",
              "\n",
              "   company                                      wikipedia  \\\n",
              "0   SpaceX         https://en.wikipedia.org/wiki/Falcon_1   \n",
              "1   SpaceX         https://en.wikipedia.org/wiki/Falcon_9   \n",
              "2   SpaceX     https://en.wikipedia.org/wiki/Falcon_Heavy   \n",
              "3   SpaceX  https://en.wikipedia.org/wiki/SpaceX_Starship   \n",
              "\n",
              "                                         description  \\\n",
              "0  The Falcon 1 was an expendable launch system p...   \n",
              "1  Falcon 9 is a two-stage rocket designed and ma...   \n",
              "2  With the ability to lift into orbit over 54 me...   \n",
              "3  Starship and Super Heavy Rocket represent a fu...   \n",
              "\n",
              "                         id        _dlt_load_id         _dlt_id  \\\n",
              "0  5e9d0d95eda69955f709d1eb  1724342755.9962318  quiB1brcmamaJA   \n",
              "1  5e9d0d95eda69973a809d1ec  1724342755.9962318  oQnyqS/w2Fpx6g   \n",
              "2  5e9d0d95eda69974db09d1ed  1724342755.9962318  KbXiQJM9pDpuQQ   \n",
              "3  5e9d0d96eda699382d09d1ee  1724342755.9962318  uq518VsZX9N13A   \n",
              "\n",
              "   height__feet__v_double  engines__thrust_to_weight__v_double  \\\n",
              "0                     NaN                                  NaN   \n",
              "1                   229.6                                180.1   \n",
              "2                   229.6                                180.1   \n",
              "3                     NaN                                  NaN   \n",
              "\n",
              "   landing_legs__material  \n",
              "0                    None  \n",
              "1            carbon fiber  \n",
              "2            carbon fiber  \n",
              "3         stainless steel  \n",
              "\n",
              "[4 rows x 58 columns]"
            ],
            "text/html": [
              "\n",
              "  <div id=\"df-c8fec0ac-9e91-4ac3-9c5b-3731d6466b67\" class=\"colab-df-container\">\n",
              "    <div>\n",
              "<style scoped>\n",
              "    .dataframe tbody tr th:only-of-type {\n",
              "        vertical-align: middle;\n",
              "    }\n",
              "\n",
              "    .dataframe tbody tr th {\n",
              "        vertical-align: top;\n",
              "    }\n",
              "\n",
              "    .dataframe thead th {\n",
              "        text-align: right;\n",
              "    }\n",
              "</style>\n",
              "<table border=\"1\" class=\"dataframe\">\n",
              "  <thead>\n",
              "    <tr style=\"text-align: right;\">\n",
              "      <th></th>\n",
              "      <th>height__meters</th>\n",
              "      <th>height__feet</th>\n",
              "      <th>diameter__meters</th>\n",
              "      <th>diameter__feet</th>\n",
              "      <th>mass__kg</th>\n",
              "      <th>mass__lb</th>\n",
              "      <th>first_stage__thrust_sea_level__k_n</th>\n",
              "      <th>first_stage__thrust_sea_level__lbf</th>\n",
              "      <th>first_stage__thrust_vacuum__k_n</th>\n",
              "      <th>first_stage__thrust_vacuum__lbf</th>\n",
              "      <th>...</th>\n",
              "      <th>country</th>\n",
              "      <th>company</th>\n",
              "      <th>wikipedia</th>\n",
              "      <th>description</th>\n",
              "      <th>id</th>\n",
              "      <th>_dlt_load_id</th>\n",
              "      <th>_dlt_id</th>\n",
              "      <th>height__feet__v_double</th>\n",
              "      <th>engines__thrust_to_weight__v_double</th>\n",
              "      <th>landing_legs__material</th>\n",
              "    </tr>\n",
              "  </thead>\n",
              "  <tbody>\n",
              "    <tr>\n",
              "      <th>0</th>\n",
              "      <td>22.25</td>\n",
              "      <td>73.0</td>\n",
              "      <td>1.68</td>\n",
              "      <td>5.5</td>\n",
              "      <td>30146</td>\n",
              "      <td>66460</td>\n",
              "      <td>420</td>\n",
              "      <td>94000</td>\n",
              "      <td>480</td>\n",
              "      <td>110000</td>\n",
              "      <td>...</td>\n",
              "      <td>Republic of the Marshall Islands</td>\n",
              "      <td>SpaceX</td>\n",
              "      <td>https://en.wikipedia.org/wiki/Falcon_1</td>\n",
              "      <td>The Falcon 1 was an expendable launch system p...</td>\n",
              "      <td>5e9d0d95eda69955f709d1eb</td>\n",
              "      <td>1724342755.9962318</td>\n",
              "      <td>quiB1brcmamaJA</td>\n",
              "      <td>NaN</td>\n",
              "      <td>NaN</td>\n",
              "      <td>None</td>\n",
              "    </tr>\n",
              "    <tr>\n",
              "      <th>1</th>\n",
              "      <td>70.00</td>\n",
              "      <td>NaN</td>\n",
              "      <td>3.70</td>\n",
              "      <td>12.0</td>\n",
              "      <td>549054</td>\n",
              "      <td>1207920</td>\n",
              "      <td>7607</td>\n",
              "      <td>1710000</td>\n",
              "      <td>8227</td>\n",
              "      <td>1849500</td>\n",
              "      <td>...</td>\n",
              "      <td>United States</td>\n",
              "      <td>SpaceX</td>\n",
              "      <td>https://en.wikipedia.org/wiki/Falcon_9</td>\n",
              "      <td>Falcon 9 is a two-stage rocket designed and ma...</td>\n",
              "      <td>5e9d0d95eda69973a809d1ec</td>\n",
              "      <td>1724342755.9962318</td>\n",
              "      <td>oQnyqS/w2Fpx6g</td>\n",
              "      <td>229.6</td>\n",
              "      <td>180.1</td>\n",
              "      <td>carbon fiber</td>\n",
              "    </tr>\n",
              "    <tr>\n",
              "      <th>2</th>\n",
              "      <td>70.00</td>\n",
              "      <td>NaN</td>\n",
              "      <td>12.20</td>\n",
              "      <td>39.9</td>\n",
              "      <td>1420788</td>\n",
              "      <td>3125735</td>\n",
              "      <td>22819</td>\n",
              "      <td>5130000</td>\n",
              "      <td>24681</td>\n",
              "      <td>5548500</td>\n",
              "      <td>...</td>\n",
              "      <td>United States</td>\n",
              "      <td>SpaceX</td>\n",
              "      <td>https://en.wikipedia.org/wiki/Falcon_Heavy</td>\n",
              "      <td>With the ability to lift into orbit over 54 me...</td>\n",
              "      <td>5e9d0d95eda69974db09d1ed</td>\n",
              "      <td>1724342755.9962318</td>\n",
              "      <td>KbXiQJM9pDpuQQ</td>\n",
              "      <td>229.6</td>\n",
              "      <td>180.1</td>\n",
              "      <td>carbon fiber</td>\n",
              "    </tr>\n",
              "    <tr>\n",
              "      <th>3</th>\n",
              "      <td>118.00</td>\n",
              "      <td>387.0</td>\n",
              "      <td>9.00</td>\n",
              "      <td>30.0</td>\n",
              "      <td>1335000</td>\n",
              "      <td>2943000</td>\n",
              "      <td>128000</td>\n",
              "      <td>28775544</td>\n",
              "      <td>138000</td>\n",
              "      <td>31023634</td>\n",
              "      <td>...</td>\n",
              "      <td>United States</td>\n",
              "      <td>SpaceX</td>\n",
              "      <td>https://en.wikipedia.org/wiki/SpaceX_Starship</td>\n",
              "      <td>Starship and Super Heavy Rocket represent a fu...</td>\n",
              "      <td>5e9d0d96eda699382d09d1ee</td>\n",
              "      <td>1724342755.9962318</td>\n",
              "      <td>uq518VsZX9N13A</td>\n",
              "      <td>NaN</td>\n",
              "      <td>NaN</td>\n",
              "      <td>stainless steel</td>\n",
              "    </tr>\n",
              "  </tbody>\n",
              "</table>\n",
              "<p>4 rows × 58 columns</p>\n",
              "</div>\n",
              "    <div class=\"colab-df-buttons\">\n",
              "\n",
              "  <div class=\"colab-df-container\">\n",
              "    <button class=\"colab-df-convert\" onclick=\"convertToInteractive('df-c8fec0ac-9e91-4ac3-9c5b-3731d6466b67')\"\n",
              "            title=\"Convert this dataframe to an interactive table.\"\n",
              "            style=\"display:none;\">\n",
              "\n",
              "  <svg xmlns=\"http://www.w3.org/2000/svg\" height=\"24px\" viewBox=\"0 -960 960 960\">\n",
              "    <path d=\"M120-120v-720h720v720H120Zm60-500h600v-160H180v160Zm220 220h160v-160H400v160Zm0 220h160v-160H400v160ZM180-400h160v-160H180v160Zm440 0h160v-160H620v160ZM180-180h160v-160H180v160Zm440 0h160v-160H620v160Z\"/>\n",
              "  </svg>\n",
              "    </button>\n",
              "\n",
              "  <style>\n",
              "    .colab-df-container {\n",
              "      display:flex;\n",
              "      gap: 12px;\n",
              "    }\n",
              "\n",
              "    .colab-df-convert {\n",
              "      background-color: #E8F0FE;\n",
              "      border: none;\n",
              "      border-radius: 50%;\n",
              "      cursor: pointer;\n",
              "      display: none;\n",
              "      fill: #1967D2;\n",
              "      height: 32px;\n",
              "      padding: 0 0 0 0;\n",
              "      width: 32px;\n",
              "    }\n",
              "\n",
              "    .colab-df-convert:hover {\n",
              "      background-color: #E2EBFA;\n",
              "      box-shadow: 0px 1px 2px rgba(60, 64, 67, 0.3), 0px 1px 3px 1px rgba(60, 64, 67, 0.15);\n",
              "      fill: #174EA6;\n",
              "    }\n",
              "\n",
              "    .colab-df-buttons div {\n",
              "      margin-bottom: 4px;\n",
              "    }\n",
              "\n",
              "    [theme=dark] .colab-df-convert {\n",
              "      background-color: #3B4455;\n",
              "      fill: #D2E3FC;\n",
              "    }\n",
              "\n",
              "    [theme=dark] .colab-df-convert:hover {\n",
              "      background-color: #434B5C;\n",
              "      box-shadow: 0px 1px 3px 1px rgba(0, 0, 0, 0.15);\n",
              "      filter: drop-shadow(0px 1px 2px rgba(0, 0, 0, 0.3));\n",
              "      fill: #FFFFFF;\n",
              "    }\n",
              "  </style>\n",
              "\n",
              "    <script>\n",
              "      const buttonEl =\n",
              "        document.querySelector('#df-c8fec0ac-9e91-4ac3-9c5b-3731d6466b67 button.colab-df-convert');\n",
              "      buttonEl.style.display =\n",
              "        google.colab.kernel.accessAllowed ? 'block' : 'none';\n",
              "\n",
              "      async function convertToInteractive(key) {\n",
              "        const element = document.querySelector('#df-c8fec0ac-9e91-4ac3-9c5b-3731d6466b67');\n",
              "        const dataTable =\n",
              "          await google.colab.kernel.invokeFunction('convertToInteractive',\n",
              "                                                    [key], {});\n",
              "        if (!dataTable) return;\n",
              "\n",
              "        const docLinkHtml = 'Like what you see? Visit the ' +\n",
              "          '<a target=\"_blank\" href=https://colab.research.google.com/notebooks/data_table.ipynb>data table notebook</a>'\n",
              "          + ' to learn more about interactive tables.';\n",
              "        element.innerHTML = '';\n",
              "        dataTable['output_type'] = 'display_data';\n",
              "        await google.colab.output.renderOutput(dataTable, element);\n",
              "        const docLink = document.createElement('div');\n",
              "        docLink.innerHTML = docLinkHtml;\n",
              "        element.appendChild(docLink);\n",
              "      }\n",
              "    </script>\n",
              "  </div>\n",
              "\n",
              "\n",
              "<div id=\"df-6e5778fb-67df-4b22-9799-88320b66286c\">\n",
              "  <button class=\"colab-df-quickchart\" onclick=\"quickchart('df-6e5778fb-67df-4b22-9799-88320b66286c')\"\n",
              "            title=\"Suggest charts\"\n",
              "            style=\"display:none;\">\n",
              "\n",
              "<svg xmlns=\"http://www.w3.org/2000/svg\" height=\"24px\"viewBox=\"0 0 24 24\"\n",
              "     width=\"24px\">\n",
              "    <g>\n",
              "        <path d=\"M19 3H5c-1.1 0-2 .9-2 2v14c0 1.1.9 2 2 2h14c1.1 0 2-.9 2-2V5c0-1.1-.9-2-2-2zM9 17H7v-7h2v7zm4 0h-2V7h2v10zm4 0h-2v-4h2v4z\"/>\n",
              "    </g>\n",
              "</svg>\n",
              "  </button>\n",
              "\n",
              "<style>\n",
              "  .colab-df-quickchart {\n",
              "      --bg-color: #E8F0FE;\n",
              "      --fill-color: #1967D2;\n",
              "      --hover-bg-color: #E2EBFA;\n",
              "      --hover-fill-color: #174EA6;\n",
              "      --disabled-fill-color: #AAA;\n",
              "      --disabled-bg-color: #DDD;\n",
              "  }\n",
              "\n",
              "  [theme=dark] .colab-df-quickchart {\n",
              "      --bg-color: #3B4455;\n",
              "      --fill-color: #D2E3FC;\n",
              "      --hover-bg-color: #434B5C;\n",
              "      --hover-fill-color: #FFFFFF;\n",
              "      --disabled-bg-color: #3B4455;\n",
              "      --disabled-fill-color: #666;\n",
              "  }\n",
              "\n",
              "  .colab-df-quickchart {\n",
              "    background-color: var(--bg-color);\n",
              "    border: none;\n",
              "    border-radius: 50%;\n",
              "    cursor: pointer;\n",
              "    display: none;\n",
              "    fill: var(--fill-color);\n",
              "    height: 32px;\n",
              "    padding: 0;\n",
              "    width: 32px;\n",
              "  }\n",
              "\n",
              "  .colab-df-quickchart:hover {\n",
              "    background-color: var(--hover-bg-color);\n",
              "    box-shadow: 0 1px 2px rgba(60, 64, 67, 0.3), 0 1px 3px 1px rgba(60, 64, 67, 0.15);\n",
              "    fill: var(--button-hover-fill-color);\n",
              "  }\n",
              "\n",
              "  .colab-df-quickchart-complete:disabled,\n",
              "  .colab-df-quickchart-complete:disabled:hover {\n",
              "    background-color: var(--disabled-bg-color);\n",
              "    fill: var(--disabled-fill-color);\n",
              "    box-shadow: none;\n",
              "  }\n",
              "\n",
              "  .colab-df-spinner {\n",
              "    border: 2px solid var(--fill-color);\n",
              "    border-color: transparent;\n",
              "    border-bottom-color: var(--fill-color);\n",
              "    animation:\n",
              "      spin 1s steps(1) infinite;\n",
              "  }\n",
              "\n",
              "  @keyframes spin {\n",
              "    0% {\n",
              "      border-color: transparent;\n",
              "      border-bottom-color: var(--fill-color);\n",
              "      border-left-color: var(--fill-color);\n",
              "    }\n",
              "    20% {\n",
              "      border-color: transparent;\n",
              "      border-left-color: var(--fill-color);\n",
              "      border-top-color: var(--fill-color);\n",
              "    }\n",
              "    30% {\n",
              "      border-color: transparent;\n",
              "      border-left-color: var(--fill-color);\n",
              "      border-top-color: var(--fill-color);\n",
              "      border-right-color: var(--fill-color);\n",
              "    }\n",
              "    40% {\n",
              "      border-color: transparent;\n",
              "      border-right-color: var(--fill-color);\n",
              "      border-top-color: var(--fill-color);\n",
              "    }\n",
              "    60% {\n",
              "      border-color: transparent;\n",
              "      border-right-color: var(--fill-color);\n",
              "    }\n",
              "    80% {\n",
              "      border-color: transparent;\n",
              "      border-right-color: var(--fill-color);\n",
              "      border-bottom-color: var(--fill-color);\n",
              "    }\n",
              "    90% {\n",
              "      border-color: transparent;\n",
              "      border-bottom-color: var(--fill-color);\n",
              "    }\n",
              "  }\n",
              "</style>\n",
              "\n",
              "  <script>\n",
              "    async function quickchart(key) {\n",
              "      const quickchartButtonEl =\n",
              "        document.querySelector('#' + key + ' button');\n",
              "      quickchartButtonEl.disabled = true;  // To prevent multiple clicks.\n",
              "      quickchartButtonEl.classList.add('colab-df-spinner');\n",
              "      try {\n",
              "        const charts = await google.colab.kernel.invokeFunction(\n",
              "            'suggestCharts', [key], {});\n",
              "      } catch (error) {\n",
              "        console.error('Error during call to suggestCharts:', error);\n",
              "      }\n",
              "      quickchartButtonEl.classList.remove('colab-df-spinner');\n",
              "      quickchartButtonEl.classList.add('colab-df-quickchart-complete');\n",
              "    }\n",
              "    (() => {\n",
              "      let quickchartButtonEl =\n",
              "        document.querySelector('#df-6e5778fb-67df-4b22-9799-88320b66286c button');\n",
              "      quickchartButtonEl.style.display =\n",
              "        google.colab.kernel.accessAllowed ? 'block' : 'none';\n",
              "    })();\n",
              "  </script>\n",
              "</div>\n",
              "\n",
              "  <div id=\"id_65496419-1bc9-4436-b1b9-471b6adf9824\">\n",
              "    <style>\n",
              "      .colab-df-generate {\n",
              "        background-color: #E8F0FE;\n",
              "        border: none;\n",
              "        border-radius: 50%;\n",
              "        cursor: pointer;\n",
              "        display: none;\n",
              "        fill: #1967D2;\n",
              "        height: 32px;\n",
              "        padding: 0 0 0 0;\n",
              "        width: 32px;\n",
              "      }\n",
              "\n",
              "      .colab-df-generate:hover {\n",
              "        background-color: #E2EBFA;\n",
              "        box-shadow: 0px 1px 2px rgba(60, 64, 67, 0.3), 0px 1px 3px 1px rgba(60, 64, 67, 0.15);\n",
              "        fill: #174EA6;\n",
              "      }\n",
              "\n",
              "      [theme=dark] .colab-df-generate {\n",
              "        background-color: #3B4455;\n",
              "        fill: #D2E3FC;\n",
              "      }\n",
              "\n",
              "      [theme=dark] .colab-df-generate:hover {\n",
              "        background-color: #434B5C;\n",
              "        box-shadow: 0px 1px 3px 1px rgba(0, 0, 0, 0.15);\n",
              "        filter: drop-shadow(0px 1px 2px rgba(0, 0, 0, 0.3));\n",
              "        fill: #FFFFFF;\n",
              "      }\n",
              "    </style>\n",
              "    <button class=\"colab-df-generate\" onclick=\"generateWithVariable('stats_table')\"\n",
              "            title=\"Generate code using this dataframe.\"\n",
              "            style=\"display:none;\">\n",
              "\n",
              "  <svg xmlns=\"http://www.w3.org/2000/svg\" height=\"24px\"viewBox=\"0 0 24 24\"\n",
              "       width=\"24px\">\n",
              "    <path d=\"M7,19H8.4L18.45,9,17,7.55,7,17.6ZM5,21V16.75L18.45,3.32a2,2,0,0,1,2.83,0l1.4,1.43a1.91,1.91,0,0,1,.58,1.4,1.91,1.91,0,0,1-.58,1.4L9.25,21ZM18.45,9,17,7.55Zm-12,3A5.31,5.31,0,0,0,4.9,8.1,5.31,5.31,0,0,0,1,6.5,5.31,5.31,0,0,0,4.9,4.9,5.31,5.31,0,0,0,6.5,1,5.31,5.31,0,0,0,8.1,4.9,5.31,5.31,0,0,0,12,6.5,5.46,5.46,0,0,0,6.5,12Z\"/>\n",
              "  </svg>\n",
              "    </button>\n",
              "    <script>\n",
              "      (() => {\n",
              "      const buttonEl =\n",
              "        document.querySelector('#id_65496419-1bc9-4436-b1b9-471b6adf9824 button.colab-df-generate');\n",
              "      buttonEl.style.display =\n",
              "        google.colab.kernel.accessAllowed ? 'block' : 'none';\n",
              "\n",
              "      buttonEl.onclick = () => {\n",
              "        google.colab.notebook.generateWithVariable('stats_table');\n",
              "      }\n",
              "      })();\n",
              "    </script>\n",
              "  </div>\n",
              "\n",
              "    </div>\n",
              "  </div>\n"
            ],
            "application/vnd.google.colaboratory.intrinsic+json": {
              "type": "dataframe",
              "variable_name": "stats_table"
            }
          },
          "metadata": {}
        }
      ]
    },
    {
      "cell_type": "code",
      "source": [
        "stats_table.columns"
      ],
      "metadata": {
        "id": "fouF5IpH1ylA",
        "outputId": "ad29f19a-7de1-4736-b73b-57e1b91cbe98",
        "colab": {
          "base_uri": "https://localhost:8080/"
        }
      },
      "execution_count": 9,
      "outputs": [
        {
          "output_type": "execute_result",
          "data": {
            "text/plain": [
              "Index(['height__meters', 'height__feet', 'diameter__meters', 'diameter__feet',\n",
              "       'mass__kg', 'mass__lb', 'first_stage__thrust_sea_level__k_n',\n",
              "       'first_stage__thrust_sea_level__lbf', 'first_stage__thrust_vacuum__k_n',\n",
              "       'first_stage__thrust_vacuum__lbf', 'first_stage__reusable',\n",
              "       'first_stage__engines', 'first_stage__fuel_amount_tons',\n",
              "       'first_stage__burn_time_sec', 'second_stage__thrust__k_n',\n",
              "       'second_stage__thrust__lbf',\n",
              "       'second_stage__payloads__composite_fairing__height__meters',\n",
              "       'second_stage__payloads__composite_fairing__height__feet',\n",
              "       'second_stage__payloads__composite_fairing__diameter__meters',\n",
              "       'second_stage__payloads__composite_fairing__diameter__feet',\n",
              "       'second_stage__payloads__option_1', 'second_stage__reusable',\n",
              "       'second_stage__engines', 'second_stage__fuel_amount_tons',\n",
              "       'second_stage__burn_time_sec', 'engines__isp__sea_level',\n",
              "       'engines__isp__vacuum', 'engines__thrust_sea_level__k_n',\n",
              "       'engines__thrust_sea_level__lbf', 'engines__thrust_vacuum__k_n',\n",
              "       'engines__thrust_vacuum__lbf', 'engines__number', 'engines__type',\n",
              "       'engines__version', 'engines__layout', 'engines__engine_loss_max',\n",
              "       'engines__propellant_1', 'engines__propellant_2',\n",
              "       'engines__thrust_to_weight', 'landing_legs__number', 'name', 'type',\n",
              "       'active', 'stages', 'boosters', 'cost_per_launch', 'success_rate_pct',\n",
              "       'first_flight', 'country', 'company', 'wikipedia', 'description', 'id',\n",
              "       '_dlt_load_id', '_dlt_id', 'height__feet__v_double',\n",
              "       'engines__thrust_to_weight__v_double', 'landing_legs__material'],\n",
              "      dtype='object')"
            ]
          },
          "metadata": {},
          "execution_count": 9
        }
      ]
    },
    {
      "cell_type": "markdown",
      "source": [
        "# Task 2\n",
        "- Add pagination, read [SpaceX API doc](https://github.com/r-spacex/SpaceX-API/blob/master/docs/queries.md).\n",
        "- Combine all resources in one [source](https://dlthub.com/docs/general-usage/source) and the pipeline with `@dlt.source`.\n",
        "- Add incremental loading for resource `get_launches` using `merge` write disposition, `id` as a  primary key and `dlt.sources.incremental`.\n",
        "- Run the pipeline [only with](https://dlthub.com/docs/general-usage/source#access-and-select-resources-to-load) `get_launches` resource.\n",
        "\n",
        "Read more about [incremental loading](https://dlthub.com/docs/general-usage/incremental-loading)."
      ],
      "metadata": {
        "id": "Q9gObEHqZpB0"
      }
    },
    {
      "cell_type": "markdown",
      "source": [
        "## Try post method to query SpaceX API\n"
      ],
      "metadata": {
        "id": "szRR1feH89yc"
      }
    },
    {
      "cell_type": "code",
      "source": [
        "import requests\n",
        "\n",
        "response = requests.post(\n",
        "    \"https://api.spacexdata.com/v4/launches/query\",\n",
        "    json={\n",
        "        \"query\": {\n",
        "            \"date_utc\": {\n",
        "                \"$gt\": \"2017-06-22T00:00:00.000Z\",\n",
        "            },\n",
        "        },\n",
        "        \"options\": {\n",
        "            \"page\": 1\n",
        "        }\n",
        "    }\n",
        ")\n",
        "response.json().keys()"
      ],
      "metadata": {
        "id": "zpGww6Zx7gG_",
        "outputId": "deadbf46-9792-47ba-f39a-fb73e543fc63",
        "colab": {
          "base_uri": "https://localhost:8080/"
        }
      },
      "execution_count": 10,
      "outputs": [
        {
          "output_type": "execute_result",
          "data": {
            "text/plain": [
              "dict_keys(['docs', 'totalDocs', 'limit', 'totalPages', 'page', 'pagingCounter', 'hasPrevPage', 'hasNextPage', 'prevPage', 'nextPage'])"
            ]
          },
          "metadata": {},
          "execution_count": 10
        }
      ]
    },
    {
      "cell_type": "markdown",
      "source": [
        "Use code above to make your launches resource incremental. Use date_unix 0 as an initial value."
      ],
      "metadata": {
        "id": "5nzHZjbg-AO8"
      }
    },
    {
      "cell_type": "code",
      "source": [
        "import dlt\n",
        "import requests\n",
        "\n",
        "\n",
        "@dlt.resource(\n",
        "    # put your code here\n",
        ")\n",
        "def get_launches(date_unix=0):\n",
        "    # put your code here\n",
        "\n",
        "\n",
        "\n",
        "def get_rockets():\n",
        "    # put your code here\n",
        "\n",
        "\n",
        "\n",
        "def spacex_source():\n",
        "    return [get_launches, get_rockets, get_crew]\n",
        "\n",
        "\n",
        "pipeline = dlt.pipeline(\n",
        "    pipeline_name='spacex_with_source_inc',\n",
        "    destination='duckdb',\n",
        "    dataset_name='spacex_data_inc',\n",
        "    dev_mode=True,\n",
        ")\n",
        "\n",
        "data = spacex_source().# put your code here\n",
        "\n",
        "load_info = pipeline.run(data)\n",
        "print(load_info)\n",
        "assert_load_info(load_info)\n",
        "\n",
        "# Run the pipeline one more time, it should load no data\n",
        "load_info = pipeline.run(data)\n",
        "print(load_info)\n",
        "assert_load_info(load_info, expected_load_packages=0)"
      ],
      "metadata": {
        "id": "zbHs4vAcP9en"
      },
      "execution_count": null,
      "outputs": []
    },
    {
      "cell_type": "markdown",
      "source": [
        "## Answer the Question:\n",
        "What rocket was launched between 2022-11-01 and 2022-11-02?\n"
      ],
      "metadata": {
        "id": "j2yWGz58jTQX"
      }
    },
    {
      "cell_type": "code",
      "source": [
        "import duckdb\n",
        "from google.colab import data_table\n",
        "data_table.enable_dataframe_formatter()\n",
        "\n",
        "# a database '<pipeline_name>.duckdb' was created in working directory so just connect to it\n",
        "conn = duckdb.connect(f\"{pipeline.pipeline_name}.duckdb\")\n",
        "conn.sql(f\"SET search_path = '{pipeline.dataset_name}'\")\n",
        "stats_table = conn.sql(\"SELECT * FROM launches WHERE date_utc BETWEEN '2022-11-01 00:00:00+00:00' AND '2022-11-02 00:00:00+00:00'\").df()\n",
        "display(stats_table)"
      ],
      "metadata": {
        "id": "It2RISJWxVQu"
      },
      "execution_count": null,
      "outputs": []
    },
    {
      "cell_type": "markdown",
      "source": [
        "# Task 3: Get payloads of launches\n",
        "\n",
        "Use `@dlt.transformer` to get additional info for your data.\n",
        "\n",
        "Read more about dlt [transformers](https://dlthub.com/docs/general-usage/resource#process-resources-with-dlttransformer)."
      ],
      "metadata": {
        "id": "diK6iTnA-gKz"
      }
    },
    {
      "cell_type": "code",
      "source": [
        "import dlt\n",
        "import requests\n",
        "\n",
        "\n",
        "def get_launches():\n",
        "    # put your code here\n",
        "\n",
        "\n",
        "\n",
        "def get_payloads(items):\n",
        "    # put your code here\n",
        "\n",
        "\n",
        "pipeline = dlt.pipeline(\n",
        "    pipeline_name='spacex_with_source_tr',\n",
        "    destination='duckdb',\n",
        "    dataset_name='spacex_data_tr',\n",
        "    dev_mode=True,\n",
        ")\n",
        "\n",
        "data = get_launches | get_payloads\n",
        "\n",
        "load_info = pipeline.run(data())\n",
        "print(load_info)\n",
        "assert_load_info(load_info)\n"
      ],
      "metadata": {
        "id": "2pyeJXUB7MbR"
      },
      "execution_count": null,
      "outputs": []
    },
    {
      "cell_type": "code",
      "source": [
        "import duckdb\n",
        "from google.colab import data_table\n",
        "data_table.enable_dataframe_formatter()\n",
        "\n",
        "# a database '<pipeline_name>.duckdb' was created in working directory so just connect to it\n",
        "conn = duckdb.connect(f\"{pipeline.pipeline_name}.duckdb\")\n",
        "conn.sql(f\"SET search_path = '{pipeline.dataset_name}'\")\n",
        "# list all tables\n",
        "display(conn.sql(\"DESCRIBE\"))"
      ],
      "metadata": {
        "id": "QeCYG3VKg--W"
      },
      "execution_count": null,
      "outputs": []
    },
    {
      "cell_type": "markdown",
      "source": [
        "Run the code below and\n",
        "\n",
        "## Answer the Question:\n",
        "\n",
        "What regime has Satellite \"FalconSAT-2\" with launch id: 5eb87cd9ffd86e000604b32a?  "
      ],
      "metadata": {
        "id": "qUll84tQi1Ij"
      }
    },
    {
      "cell_type": "code",
      "source": [
        "stats_table = conn.sql(\"SELECT * FROM details\").df()\n",
        "display(stats_table)"
      ],
      "metadata": {
        "id": "lkJz8HsrOYtj"
      },
      "execution_count": null,
      "outputs": []
    }
  ]
}