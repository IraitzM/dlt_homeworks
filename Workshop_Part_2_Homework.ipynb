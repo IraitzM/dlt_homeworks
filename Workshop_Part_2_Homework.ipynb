{
  "nbformat": 4,
  "nbformat_minor": 0,
  "metadata": {
    "colab": {
      "provenance": [],
      "include_colab_link": true
    },
    "kernelspec": {
      "name": "python3",
      "display_name": "Python 3"
    },
    "language_info": {
      "name": "python"
    }
  },
  "cells": [
    {
      "cell_type": "markdown",
      "metadata": {
        "id": "view-in-github",
        "colab_type": "text"
      },
      "source": [
        "<a href=\"https://colab.research.google.com/github/IraitzM/dlt_homeworks/blob/main/Workshop_Part_2_Homework.ipynb\" target=\"_parent\"><img src=\"https://colab.research.google.com/assets/colab-badge.svg\" alt=\"Open In Colab\"/></a>"
      ]
    },
    {
      "cell_type": "code",
      "source": [
        "%%capture\n",
        "!pip install dlt\n",
        "!pip install sqlalchemy pymysql"
      ],
      "metadata": {
        "id": "r6sWDpJBbCOA"
      },
      "execution_count": null,
      "outputs": []
    },
    {
      "cell_type": "markdown",
      "source": [
        "# Task 1:\n",
        "Rewrite your SpaceX pipeline from Part 1 using [RestAPI Client](https://dlthub.com/docs/general-usage/http/rest-client) or [rest_api_source](https://dlthub.com/docs/dlt-ecosystem/verified-sources/rest_api).\n",
        "\n",
        "SpaceX API URL: https://api.spacexdata.com\n",
        "\n",
        "Docs: https://github.com/r-spacex/SpaceX-API/blob/master/docs/README.md\n",
        "\n",
        "Endpoints for loading:\n",
        "- launches\n",
        "- rockets\n",
        "- crew\n",
        "\n",
        "+ `@dlt.transformer` with **launches** payloads.\n",
        "\n",
        "**Note**: Incremental loading is not neccessary for this tasks, you can skip it."
      ],
      "metadata": {
        "id": "8Z7gLUDXPpCg"
      }
    },
    {
      "cell_type": "code",
      "source": [
        "import time\n",
        "\n",
        "import dlt\n",
        "import requests\n",
        "\n",
        "\n",
        "# your code here\n",
        "\n",
        "\n",
        "pipeline = dlt.pipeline(\n",
        "    pipeline_name='spacex_pipeline',\n",
        "    destination='duckdb',\n",
        "    dataset_name='spacex_data',\n",
        "    dev_mode=True,\n",
        ")\n",
        "\n",
        "start_time = time.time()\n",
        "\n",
        "load_info = # your code here\n",
        "\n",
        "end_time = time.time()\n",
        "elapsed_time = end_time - start_time\n",
        "\n",
        "print(f\"Time taken to execute pipeline: {elapsed_time} seconds\")\n",
        "print(load_info)\n",
        "print(pipeline.last_trace.last_normalize_info)\n"
      ],
      "metadata": {
        "id": "h09EZMnNOkG_"
      },
      "execution_count": null,
      "outputs": []
    },
    {
      "cell_type": "markdown",
      "source": [
        "# Task 2:\n",
        "\n",
        "1. Run the pipeline with the next configuration:\n",
        "     ```\n",
        "     os.environ['DATA_WRITER__BUFFER_MAX_ITEMS'] = '1'\n",
        "     os.environ['EXTRACT__WORKERS'] = '1'\n",
        "     os.environ['NORMALIZE__WORKERS'] = '1'\n",
        "     os.environ['LOAD__WORKERS'] = '1'\n",
        "     ```\n",
        "2. Speed up the pipeline.\n",
        "3. Create a chart that illustrates the dynamics of performance from configurations.\n",
        "4. Figure out the optimal characteristics for the best performance."
      ],
      "metadata": {
        "id": "ALhBI4aaSHEm"
      }
    },
    {
      "cell_type": "markdown",
      "source": [
        "## Run this cell before start the task\n",
        "With this configuration we simulate the worst case scenario."
      ],
      "metadata": {
        "id": "cOYNfthuM19M"
      }
    },
    {
      "cell_type": "code",
      "source": [
        "import os\n",
        "\n",
        "# Set the buffer size to 1\n",
        "os.environ['DATA_WRITER__BUFFER_MAX_ITEMS'] = '1'\n",
        "os.environ['EXTRACT__WORKERS'] = '1'\n",
        "os.environ['NORMALIZE__WORKERS'] = '1'\n",
        "os.environ['LOAD__WORKERS'] = '1'"
      ],
      "metadata": {
        "id": "6Je4aTp4JSm9"
      },
      "execution_count": null,
      "outputs": []
    },
    {
      "cell_type": "markdown",
      "source": [
        "## Run the pipeline"
      ],
      "metadata": {
        "id": "LS6WjJrQSjIB"
      }
    },
    {
      "cell_type": "code",
      "source": [
        "import time\n",
        "\n",
        "import dlt\n",
        "import requests\n",
        "\n",
        "\n",
        "# your code here\n",
        "\n",
        "\n",
        "pipeline = dlt.pipeline(\n",
        "    pipeline_name='spacex_pipeline',\n",
        "    destination='duckdb',\n",
        "    dataset_name='spacex_data',\n",
        "    dev_mode=True,\n",
        ")\n",
        "\n",
        "start_time = time.time()\n",
        "\n",
        "load_info = # your code here\n",
        "\n",
        "end_time = time.time()\n",
        "elapsed_time = end_time - start_time\n",
        "\n",
        "print(f\"Time taken to execute pipeline: {elapsed_time} seconds\")\n",
        "print(load_info)\n",
        "print(pipeline.last_trace.last_normalize_info)\n"
      ],
      "metadata": {
        "id": "KYIThssQSfL4"
      },
      "execution_count": null,
      "outputs": []
    },
    {
      "cell_type": "markdown",
      "source": [
        "See the difference in performance?\n",
        "Try to find the best configuration for this pipeline. Use the graphs, they will help you."
      ],
      "metadata": {
        "id": "1WeydZ3lSo29"
      }
    },
    {
      "cell_type": "code",
      "source": [
        "%%capture\n",
        "!pip install matplotlib"
      ],
      "metadata": {
        "id": "H6jMXXXMTcLp"
      },
      "execution_count": null,
      "outputs": []
    },
    {
      "cell_type": "code",
      "source": [
        "import matplotlib.pyplot as plt\n",
        "\n",
        "worker_numbers = [1, 2, 3, 4]\n",
        "\n",
        "seconds = [1, 2, 3, 4]\n",
        "\n",
        "plt.plot(worker_numbers, seconds)\n",
        "plt.show()"
      ],
      "metadata": {
        "id": "2YomC7oyTxHt"
      },
      "execution_count": null,
      "outputs": []
    },
    {
      "cell_type": "markdown",
      "source": [],
      "metadata": {
        "id": "L32D1uATTHsM"
      }
    }
  ]
}